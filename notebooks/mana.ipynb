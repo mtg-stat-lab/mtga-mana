{
 "cells": [
  {
   "cell_type": "code",
   "execution_count": null,
   "metadata": {},
   "outputs": [],
   "source": [
    "%load_ext autoreload\n",
    "%autoreload 2\n",
    "%config InlineBackend.figure_format = 'retina'\n",
    "\n",
    "import altair as alt\n",
    "import pandas as pd\n",
    "\n",
    "import sys\n",
    "sys.path.append('..')\n",
    "\n",
    "alt.data_transformers.enable(\"default\", max_rows=None)\n",
    "\n",
    "alt.renderers.enable(\"default\")\n",
    "\n",
    "# Set display options to show all rows and columns\n",
    "pd.set_option('display.max_rows', 100)\n",
    "pd.set_option('display.max_columns', 100)"
   ]
  },
  {
   "cell_type": "code",
   "execution_count": null,
   "metadata": {},
   "outputs": [],
   "source": [
    "alt.Chart(pd.DataFrame({'x': [1, 2], 'y': [1, 2]})).mark_point()"
   ]
  },
  {
   "cell_type": "code",
   "execution_count": null,
   "metadata": {},
   "outputs": [],
   "source": [
    "from lib.mana import Spell, ManaCard, Deck, can_cast\n",
    "\n",
    "# -------------------------------------------------------------------------\n",
    "#   EXAMPLE USAGE (remove or modify in your own code)\n",
    "# -------------------------------------------------------------------------\n",
    "if __name__ == \"__main__\":\n",
    "    spells_dict = {\n",
    "        'U': 3,\n",
    "        'B': 5,\n",
    "        'UU': 1,\n",
    "        'UB': 2\n",
    "    }\n",
    "    mana_dict = {\n",
    "        'U': 7,\n",
    "        'UB': 2,\n",
    "        'B': 6,\n",
    "        'WUBRG': 1\n",
    "    }\n",
    "\n",
    "    # Example 1: Monte Carlo Simulation\n",
    "    mc_dead_counts = simulate_dead_cards(spells_dict, mana_dict, total_deck_size=40,\n",
    "                                         draws=5, simulations=10_000, seed=123)\n",
    "    for turn_i, dc in enumerate(mc_dead_counts):\n",
    "        print(f\"Monte Carlo => Turn {turn_i}, average dead spells = {dc:.3f}\")\n",
    "\n",
    "    # Example 2: Partial Hypergeometric\n",
    "    # (This is color-blind. It's just an illustration.)\n",
    "    hg_dead_counts = compute_dead_cards_hypergeometric(spells_dict, mana_dict, 40, draws=5)\n",
    "    for turn_i, dc in enumerate(hg_dead_counts):\n",
    "        print(f\"Hyper-geom => Turn {turn_i}, expected dead spells (color-blind) = {dc:.3f}\")\n"
   ]
  },
  {
   "cell_type": "code",
   "execution_count": null,
   "metadata": {},
   "outputs": [],
   "source": [
    "from lib.mana import *\n",
    "\n",
    "spells_dict = {\n",
    "    'U': 6,\n",
    "    'B': 5,\n",
    "    'W': 3,\n",
    "    'WB': 1,\n",
    "    'UB': 1,\n",
    "    'WU': 1,\n",
    "    'WWW': 1,\n",
    "}\n",
    "mana_dict = {\n",
    "    'U': 5,\n",
    "    'B': 5,\n",
    "    'W': 4,\n",
    "    'UB': 1,\n",
    "    'WB': 1,\n",
    "    'WU': 1,\n",
    "}\n",
    "\n",
    "# Example 1: Monte Carlo Simulation\n",
    "mc_dead_counts = simulate_dead_cards(spells_dict, mana_dict, total_deck_size=40,\n",
    "                                        draws=20, simulations=10_000, seed=123)\n",
    "for turn_i, dc in enumerate(mc_dead_counts):\n",
    "    print(f\"Monte Carlo => Turn {turn_i}, average dead spells = {dc:.3f}\")\n",
    "\n"
   ]
  },
  {
   "cell_type": "code",
   "execution_count": null,
   "metadata": {},
   "outputs": [],
   "source": []
  }
 ],
 "metadata": {
  "kernelspec": {
   "display_name": "venv",
   "language": "python",
   "name": "python3"
  },
  "language_info": {
   "codemirror_mode": {
    "name": "ipython",
    "version": 3
   },
   "file_extension": ".py",
   "mimetype": "text/x-python",
   "name": "python",
   "nbconvert_exporter": "python",
   "pygments_lexer": "ipython3",
   "version": "3.13.1"
  }
 },
 "nbformat": 4,
 "nbformat_minor": 2
}
