{
 "cells": [
  {
   "cell_type": "code",
   "execution_count": null,
   "metadata": {},
   "outputs": [],
   "source": [
    "%load_ext autoreload\n",
    "%autoreload 2\n",
    "%config InlineBackend.figure_format = 'retina'\n",
    "\n",
    "import altair as alt\n",
    "import pandas as pd\n",
    "\n",
    "import sys\n",
    "sys.path.append('..')\n",
    "\n",
    "alt.data_transformers.enable(\"default\", max_rows=None)\n",
    "\n",
    "alt.renderers.enable(\"default\")\n",
    "\n",
    "# Set display options to show all rows and columns\n",
    "pd.set_option('display.max_rows', 100)\n",
    "pd.set_option('display.max_columns', 100)"
   ]
  },
  {
   "cell_type": "code",
   "execution_count": null,
   "metadata": {},
   "outputs": [],
   "source": [
    "alt.Chart(pd.DataFrame({'x': [1, 2], 'y': [1, 2]})).mark_point()"
   ]
  },
  {
   "cell_type": "code",
   "execution_count": null,
   "metadata": {},
   "outputs": [],
   "source": [
    "from lib.mana import run_simulation, create_altair_charts\n",
    "\n",
    "spells_dict_example = {\n",
    "    'U': 6,\n",
    "    'B': 5,\n",
    "    'W': 4,\n",
    "    'WB': 1,\n",
    "    'UB': 1,\n",
    "    'WU': 1,\n",
    "}\n",
    "mana_dict_example = {\n",
    "    'U': 5,\n",
    "    'B': 5,\n",
    "    'W': 4,\n",
    "    'UB': 1,\n",
    "    'WB': 1,\n",
    "    'WU': 1,\n",
    "}\n",
    "\n",
    "df_results = run_simulation(spells_dict_example,\n",
    "                            mana_dict_example,\n",
    "                            total_deck_size=40,\n",
    "                            draws=10,\n",
    "                            simulations=10_000,\n",
    "                            seed=42)\n"
   ]
  },
  {
   "cell_type": "code",
   "execution_count": null,
   "metadata": {},
   "outputs": [],
   "source": [
    "create_altair_charts(df_results)"
   ]
  }
 ],
 "metadata": {
  "kernelspec": {
   "display_name": "venv",
   "language": "python",
   "name": "python3"
  },
  "language_info": {
   "codemirror_mode": {
    "name": "ipython",
    "version": 3
   },
   "file_extension": ".py",
   "mimetype": "text/x-python",
   "name": "python",
   "nbconvert_exporter": "python",
   "pygments_lexer": "ipython3",
   "version": "3.13.1"
  }
 },
 "nbformat": 4,
 "nbformat_minor": 2
}
